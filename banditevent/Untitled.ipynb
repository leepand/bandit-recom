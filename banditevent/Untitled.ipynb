{
 "cells": [
  {
   "cell_type": "code",
   "execution_count": 5,
   "metadata": {},
   "outputs": [
    {
     "name": "stdout",
     "output_type": "stream",
     "text": [
      "[{'mode': 'REQUIRED', 'name': 'decision_id', 'type': 'STRING'}, {'mode': 'REQUIRED', 'name': 'context', 'type': 'STRING'}, {'mode': 'REQUIRED', 'name': 'decision', 'type': 'STRING'}, {'mode': 'NULLABLE', 'name': 'experiment_id', 'type': 'STRING'}, {'mode': 'NULLABLE', 'name': 'variation_id', 'type': 'INTEGER'}, {'mode': 'NULLABLE', 'name': 'mdp_id', 'type': 'STRING'}, {'mode': 'NULLABLE', 'name': 'ts', 'type': 'INTEGER'}, {'mode': 'NULLABLE', 'name': 'score', 'type': 'FLOAT'}]\n",
      "[{'mode': 'NULLABLE', 'name': 'decision_id', 'type': 'STRING'}, {'mode': 'NULLABLE', 'name': 'decision', 'type': 'STRING'}, {'mode': 'NULLABLE', 'name': 'metrics', 'type': 'STRING'}, {'mode': 'NULLABLE', 'name': 'experiment_id', 'type': 'STRING'}, {'mode': 'NULLABLE', 'name': 'mdp_id', 'type': 'STRING'}, {'mode': 'NULLABLE', 'name': 'ts', 'type': 'INTEGER'}]\n",
      "ML bandit dataset and tables created.\n"
     ]
    }
   ],
   "source": [
    "import json\n",
    "def read_schemas():\n",
    "    # create decision table\n",
    "    with open(\"eventnative/schemas/decisions.json\") as decisions_schema:\n",
    "        fields = json.load(decisions_schema)\n",
    "        print(fields)\n",
    "        #create_table(client, args.dataset, \"decisions\", fields)\n",
    "\n",
    "    # create rewards table\n",
    "    with open(\"eventnative/schemas/rewards.json\") as rewards_schema:\n",
    "        fields = json.load(rewards_schema)\n",
    "        #create_table(client, args.dataset, \"rewards\", fields)\n",
    "        print(fields)\n",
    "\n",
    "    print(\"ML bandit dataset and tables created.\")\n",
    "    \n",
    "    \n",
    "read_schemas()"
   ]
  },
  {
   "cell_type": "code",
   "execution_count": 6,
   "metadata": {},
   "outputs": [
    {
     "data": {
      "text/plain": [
       "range(1970, 2021)"
      ]
     },
     "execution_count": 6,
     "metadata": {},
     "output_type": "execute_result"
    }
   ],
   "source": [
    "CURRENT_YEAR = 2020\n",
    "YEARLY_MEAN_CM_ADJUSTMENTS = 0.25\n",
    "POSSIBLE_YEARS = range(CURRENT_YEAR - 50, CURRENT_YEAR + 1)\n",
    "\n",
    "NUM_GET_DECISION_CALLS = 10000\n",
    "POSSIBLE_YEARS"
   ]
  },
  {
   "cell_type": "code",
   "execution_count": 7,
   "metadata": {},
   "outputs": [
    {
     "name": "stdout",
     "output_type": "stream",
     "text": [
      "-- app dirs (with optional 'version')\n"
     ]
    }
   ],
   "source": [
    "import modelcloud"
   ]
  },
  {
   "cell_type": "code",
   "execution_count": 10,
   "metadata": {},
   "outputs": [],
   "source": [
    "import modelcloud\n",
    "from modelcloud.data_types import text,number,any,category\n"
   ]
  },
  {
   "cell_type": "code",
   "execution_count": 7,
   "metadata": {},
   "outputs": [
    {
     "name": "stdout",
     "output_type": "stream",
     "text": [
      "Writing decisionLogServer.py\n"
     ]
    }
   ],
   "source": [
    "%%file decisionLogServer.py\n",
    "import modelcloud\n",
    "from modelcloud.data_types import text,number,any,category\n",
    "\n",
    "from eventnative.bandit_data_model import Bandit_decisions_model,Bandit_rewards_model\n",
    "from peewee import *\n",
    "d = \"/Users/leepand/Downloads/github/vue/vue-admin-flask-example/algolink_ui_server/files/localdb/localdb3-v1/model_samples.db\"\n",
    "db = SqliteDatabase(d)\n",
    "\n",
    "decision_inputs = {\n",
    "    'dataset_id': text(description=\"数据ID\"),\n",
    "    'project_id': text(description=\"项目ID\"),\n",
    "    'experiment_id': text(description=\"实验ID\"),\n",
    "    'mdp_id': text(description=\"马尔科夫决策ID\"),\n",
    "    'decision_id': text(description=\"推荐决策ID\"),\n",
    "    'decision': text(description=\"决策内容\"),\n",
    "    'ts': number(description=\"时间戳\"),\n",
    "    'variation_id': text(description=\"实验用例\"),\n",
    "    'context': text(description=\"特征内容\"),\n",
    "    'score' :any(description=\"决策的预期得分\")\n",
    "}\n",
    "decisions_outputs = {\n",
    "    'result': text(description=\"数据入库标识\")\n",
    "}\n",
    "\n",
    "decision_description = '记录推荐系统的决策信息'\n",
    "\n",
    "@modelcloud.command('logDecision', \n",
    "                    inputs=decision_inputs, \n",
    "                    outputs=decisions_outputs,\n",
    "                    description=decision_description)\n",
    "def decision_model(model, decisions):\n",
    "    prefix= decisions[\"dataset_id\"]\n",
    "    project_id= decisions[\"project_id\"]\n",
    "    decision_id = decisions[\"decision_id\"]\n",
    "    DecisionModel = Bandit_decisions_model(prefix,project_id,db)\n",
    "    DecisionModel(decision_id =decision_id,\n",
    "                  context = decisions[\"context\"],\n",
    "                  experiment_id = decisions[\"experiment_id\"],\n",
    "                  decision = decisions[\"decision\"],\n",
    "                  mdp_id = decisions[\"mdp_id\"],\n",
    "                  variation_id = decisions[\"variation_id\"],\n",
    "                  ts = decisions[\"ts\"],\n",
    "                  score = decisions[\"score\"]\n",
    "                 ).save()\n",
    "    return {\"result\":\"True\"}\n",
    "    \n",
    "reward_inputs = {\n",
    "    'dataset_id': text(description=\"数据ID\"),\n",
    "    'project_id': text(description=\"项目ID\"),\n",
    "    'experiment_id': text(description=\"实验ID\"),\n",
    "    'mdp_id': text(description=\"马尔科夫决策ID\"),\n",
    "    'decision_id': text(description=\"推荐决策ID\"),\n",
    "    'decision': text(description=\"决策内容\"),\n",
    "    'ts': number(description=\"时间戳\"),\n",
    "    'metrics': text(description=\"奖励指标的映射\")\n",
    "}\n",
    "reward_outputs = {\n",
    "    'result': text(description=\"数据入库标识\")\n",
    "}\n",
    "\n",
    "reward_description = '记录推荐系统的用户反馈信息'\n",
    "\n",
    "@modelcloud.command('logReward', \n",
    "                    inputs=reward_inputs, \n",
    "                    outputs=reward_outputs,\n",
    "                    description=reward_description)\n",
    "def decision_model(model, rewards):\n",
    "    prefix= rewards[\"dataset_id\"]\n",
    "    project_id= rewards[\"project_id\"]\n",
    "    decision_id = rewards[\"decision_id\"]\n",
    "    RewardModel = Bandit_rewards_model(prefix,project_id,db)\n",
    "    if decision_id==\"null\":\n",
    "        RewardModel(metrics = rewards[\"metrics\"],\n",
    "                    experiment_id = rewards[\"experiment_id\"],\n",
    "                    mdp_id = rewards[\"mdp_id\"],\n",
    "                    ts = rewards[\"ts\"]\n",
    "                   ).save()\n",
    "    else:\n",
    "        RewardModel(decision_id = rewards[\"decision_id\"],\n",
    "                    decision = rewards[\"decision\"],\n",
    "                    metrics = rewards[\"metrics\"],\n",
    "                    experiment_id = rewards[\"experiment_id\"],\n",
    "                    mdp_id = rewards[\"mdp_id\"],\n",
    "                    ts = rewards[\"ts\"]\n",
    "                   ).save()\n",
    "    return {\"result\":\"True\"}\n",
    "\n",
    "if __name__ == '__main__':\n",
    "    modelcloud.run(port=9003,worker_class=\"gevent\",runenv=\"dev\")"
   ]
  },
  {
   "cell_type": "code",
   "execution_count": 16,
   "metadata": {},
   "outputs": [
    {
     "data": {
      "text/plain": [
       "{'type': 'category',\n",
       " 'description': None,\n",
       " 'name': 'category',\n",
       " 'choices': ['Artistic', 'Stable', 'Video'],\n",
       " 'default': 'Artistic'}"
      ]
     },
     "execution_count": 16,
     "metadata": {},
     "output_type": "execute_result"
    }
   ],
   "source": [
    "setup_options={\n",
    "  'architecture': category(choices=['Artistic', 'Stable', 'Video'])\n",
    "}\n",
    "setup_options['architecture'].__dict__"
   ]
  },
  {
   "cell_type": "code",
   "execution_count": null,
   "metadata": {},
   "outputs": [],
   "source": [
    "                    <router-link :to=\"{ name: '模型列表', params: {project_id: this.$route.params.project_id}}\" style='text-decoration: none;color: aliceblue;'>\n",
    "                        所有模型\n",
    "                    </router-link>"
   ]
  },
  {
   "cell_type": "code",
   "execution_count": null,
   "metadata": {},
   "outputs": [],
   "source": [
    "                    <router-link :to=\"{ name: '分组模型列表', params: {project_id: this.$route.params.project_id,firstGroup: firstID}}\" style='text-decoration: none;color: aliceblue;'>\n",
    "                        所有模型\n",
    "                    </router-link>"
   ]
  },
  {
   "cell_type": "code",
   "execution_count": 2,
   "metadata": {},
   "outputs": [],
   "source": [
    "from websocket import create_connection\n",
    "\n",
    "ws = create_connection('ws://localhost:9002/')"
   ]
  },
  {
   "cell_type": "code",
   "execution_count": 17,
   "metadata": {},
   "outputs": [
    {
     "data": {
      "text/plain": [
       "{'type': 'started', 'id': 'test9'}"
      ]
     },
     "execution_count": 17,
     "metadata": {},
     "output_type": "execute_result"
    }
   ],
   "source": [
    "import json\n",
    "def create_ws_message(message_type, data):\n",
    "    return json.dumps(dict(type=message_type, **data))\n",
    "ws.send(create_ws_message('submit', dict(command='fib', id='test9', inputData={'n': 10})))\n",
    "\n",
    "response = json.loads(ws.recv())\n",
    "response"
   ]
  },
  {
   "cell_type": "code",
   "execution_count": 18,
   "metadata": {},
   "outputs": [
    {
     "data": {
      "text/plain": [
       "{'type': 'output', 'id': 'test9', 'outputData': {'result': 89}}"
      ]
     },
     "execution_count": 18,
     "metadata": {},
     "output_type": "execute_result"
    }
   ],
   "source": [
    "response = json.loads(ws.recv())\n",
    "response"
   ]
  },
  {
   "cell_type": "code",
   "execution_count": 9,
   "metadata": {},
   "outputs": [
    {
     "data": {
      "text/plain": [
       "{'type': 'output', 'id': 'test7', 'outputData': {'result': 89}}"
      ]
     },
     "execution_count": 9,
     "metadata": {},
     "output_type": "execute_result"
    }
   ],
   "source": [
    "response"
   ]
  },
  {
   "cell_type": "code",
   "execution_count": 3,
   "metadata": {},
   "outputs": [
    {
     "data": {
      "text/plain": [
       "{'os': 'mac', 'mac_version': '10.16'}"
      ]
     },
     "execution_count": 3,
     "metadata": {},
     "output_type": "execute_result"
    }
   ],
   "source": [
    "import platform\n",
    "def get_system_info():\n",
    "    system = platform.system()\n",
    "\n",
    "    if system == \"Windows\":\n",
    "        version = sys.getwindowsversion()\n",
    "\n",
    "        return {\n",
    "            \"os\": \"windows\",\n",
    "            \"windows_version_build\": version.build,\n",
    "            \"windows_version_major\": version.major,\n",
    "            \"windows_version_minor\": version.minor,\n",
    "            \"windows_version_service_pack\": version.service_pack,\n",
    "        }\n",
    "\n",
    "    if system == \"Darwin\":\n",
    "        return {\"os\": \"mac\", \"mac_version\": platform.mac_ver()[0]}\n",
    "\n",
    "    if system == \"Linux\":\n",
    "        return {\n",
    "            \"os\": \"linux\",\n",
    "            \"linux_distro\": distro.id(),\n",
    "            \"linux_distro_like\": distro.like(),\n",
    "            \"linux_distro_version\": distro.version(),\n",
    "        }\n",
    "\n",
    "    # We don't collect data for any other system.\n",
    "    return {\"os\": \"unknown\"}\n",
    "\n",
    "get_system_info()"
   ]
  },
  {
   "cell_type": "code",
   "execution_count": 2,
   "metadata": {},
   "outputs": [
    {
     "data": {
      "text/plain": [
       "{'os': 'mac', 'mac_version': '10.16'}"
      ]
     },
     "execution_count": 2,
     "metadata": {},
     "output_type": "execute_result"
    }
   ],
   "source": [
    "get_system_info()"
   ]
  },
  {
   "cell_type": "code",
   "execution_count": null,
   "metadata": {},
   "outputs": [],
   "source": []
  }
 ],
 "metadata": {
  "kernelspec": {
   "display_name": "Python 3",
   "language": "python",
   "name": "python3"
  },
  "language_info": {
   "codemirror_mode": {
    "name": "ipython",
    "version": 3
   },
   "file_extension": ".py",
   "mimetype": "text/x-python",
   "name": "python",
   "nbconvert_exporter": "python",
   "pygments_lexer": "ipython3",
   "version": "3.7.7"
  }
 },
 "nbformat": 4,
 "nbformat_minor": 4
}
